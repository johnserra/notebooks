{
    "cells": [
        {
            "metadata": {
                "collapsed": true
            },
            "cell_type": "markdown",
            "source": "# My Jupyter Notebook on IBM Watson Studio"
        },
        {
            "metadata": {},
            "cell_type": "markdown",
            "source": "__John Serra__ </br> Data Scientist"
        },
        {
            "metadata": {},
            "cell_type": "markdown",
            "source": "_I am interested in data science because I'm intrigued by human behavior. Learning these concepts and using these tools will allow me to study behavior more aggregately._"
        },
        {
            "metadata": {},
            "cell_type": "markdown",
            "source": "### My code will say \"Hi!\" and share a thought.... ###"
        },
        {
            "metadata": {},
            "cell_type": "code",
            "source": "print('Hi, you all! Treat others as you would like others to treat you ;-)')",
            "execution_count": 10,
            "outputs": [
                {
                    "output_type": "stream",
                    "text": "Hi, you all! Treat others as you would like others to treat you ;-)\n",
                    "name": "stdout"
                }
            ]
        },
        {
            "metadata": {},
            "cell_type": "markdown",
            "source": "***\n- One potato\n- Two potato\n- Three potato\n- Four...\n***"
        },
        {
            "metadata": {},
            "cell_type": "markdown",
            "source": "__[My Notebooks On GitHub](https://github.com/johnserra/notebooks)__"
        },
        {
            "metadata": {},
            "cell_type": "markdown",
            "source": ""
        }
    ],
    "metadata": {
        "kernelspec": {
            "name": "python3",
            "display_name": "Python 3.9",
            "language": "python"
        },
        "language_info": {
            "name": "python",
            "version": "3.9.13",
            "mimetype": "text/x-python",
            "codemirror_mode": {
                "name": "ipython",
                "version": 3
            },
            "pygments_lexer": "ipython3",
            "nbconvert_exporter": "python",
            "file_extension": ".py"
        }
    },
    "nbformat": 4,
    "nbformat_minor": 1
}